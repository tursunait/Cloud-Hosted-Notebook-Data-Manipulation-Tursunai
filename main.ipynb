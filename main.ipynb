{
 "cells": [
  {
   "cell_type": "markdown",
   "metadata": {},
   "source": [
    "<h2>New York City MTA(metro) customer satisfaction analysis </h2>"
   ]
  },
  {
   "cell_type": "code",
   "execution_count": 33,
   "metadata": {},
   "outputs": [],
   "source": [
    "## loading libraries\n",
    "import pandas as pd\n",
    "import matplotlib.pyplot as plt"
   ]
  },
  {
   "cell_type": "code",
   "execution_count": 34,
   "metadata": {},
   "outputs": [],
   "source": [
    "# loading the dataset\n",
    "def load_df(filepath):\n",
    "    df = pd.read_csv(filepath)\n",
    "    return df"
   ]
  },
  {
   "cell_type": "code",
   "execution_count": 35,
   "metadata": {},
   "outputs": [],
   "source": [
    "# functions to generate the statistics\n",
    "def calculate_mean(df, col):\n",
    "    return df[col].mean() if col in df else None\n",
    "\n",
    "\n",
    "def calculate_median(df, col):\n",
    "    return df[col].median() if col in df else None\n",
    "\n",
    "\n",
    "def calculate_std_dev(df, col):\n",
    "    return df[col].std() if col in df and len(df[col]) > 1 else 0"
   ]
  },
  {
   "cell_type": "code",
   "execution_count": 36,
   "metadata": {},
   "outputs": [],
   "source": [
    "def build_graph(\n",
    "    dataframe,\n",
    "    x_column,\n",
    "    y_column,\n",
    "    title,\n",
    "    xlabel,\n",
    "    ylabel,\n",
    "    color=\"lightgray\",\n",
    "    jupyter_render=False,\n",
    "):\n",
    "    plt.figure(figsize=(12, 8))\n",
    "    plt.bar(dataframe[x_column], dataframe[y_column], color=color)\n",
    "    plt.title(title)\n",
    "    plt.xlabel(xlabel)\n",
    "    plt.ylabel(ylabel)\n",
    "    plt.grid(axis=\"y\")\n",
    "    if not jupyter_render:\n",
    "        plt.savefig(\"bar.png\")\n",
    "    else:\n",
    "        plt.show()\n",
    "\n",
    "\n",
    "def build_graph2(\n",
    "    dataframe,\n",
    "    x2_col,\n",
    "    y2_col,\n",
    "    graph2_title,\n",
    "    color=\"navy\",\n",
    "    jupyter_render=False,\n",
    "):\n",
    "    plt.figure(figsize=(12, 8))\n",
    "    plt.bar(dataframe[x2_col], dataframe[y2_col], color=color)\n",
    "    plt.title(graph2_title)\n",
    "    plt.grid(axis=\"y\")\n",
    "    if not jupyter_render:\n",
    "        plt.savefig(\"bar2.png\")\n",
    "    else:\n",
    "        plt.show()"
   ]
  },
  {
   "cell_type": "code",
   "execution_count": 37,
   "metadata": {},
   "outputs": [],
   "source": [
    "# Parameters for the analysis\n",
    "filepath = \"MTA_NYCT_Stat.csv\"\n",
    "analysis_col = \"Total Incoming Calls\"\n",
    "x_col = \"Month of Year\"\n",
    "y_col = \"Total Incoming Calls\"\n",
    "plot_title = \"MTA_Seasonality\"\n",
    "xlabel = \"Month of Year\"\n",
    "ylabel = \"Total Incoming Calls\"\n",
    "x2_col = \"Year\"\n",
    "y2_col = \"Social Media Customer Satisfaction Score\"\n",
    "graph2_title = \"Social Media Customer Satisfaction Score\""
   ]
  },
  {
   "cell_type": "code",
   "execution_count": 38,
   "metadata": {},
   "outputs": [],
   "source": [
    "def gen_stat(df, analysis_col):\n",
    "    mean = calculate_mean(df, analysis_col)\n",
    "    median = calculate_median(df, analysis_col)\n",
    "    std_dev = calculate_std_dev(df, analysis_col)\n",
    "    # Creating a DataFrame for the markdown table\n",
    "    stats_dict = {\n",
    "        \"Statistic\": [\"Mean\", \"Median\", \"Standard Deviation\"],\n",
    "        \"Value\": [mean, median, std_dev],\n",
    "    }\n",
    "    stats_df = pd.DataFrame(stats_dict)\n",
    "    return stats_df"
   ]
  },
  {
   "cell_type": "code",
   "execution_count": 39,
   "metadata": {},
   "outputs": [],
   "source": [
    "def gen_graphs(\n",
    "    df,\n",
    "    x_col,\n",
    "    y_col,\n",
    "    plot_title,\n",
    "    xlabel,\n",
    "    ylabel,\n",
    "    x2_col,\n",
    "    y2_col,\n",
    "    graph2_title,\n",
    "    jupyter_render=False,\n",
    "):\n",
    "    build_graph(\n",
    "        df,\n",
    "        x_col,\n",
    "        y_col,\n",
    "        plot_title,\n",
    "        xlabel,\n",
    "        ylabel,\n",
    "        color=\"lightgray\",\n",
    "        jupyter_render=jupyter_render,\n",
    "    )\n",
    "    # Distribution of material types\n",
    "    build_graph2(df, x2_col, y2_col, graph2_title, jupyter_render=jupyter_render)"
   ]
  },
  {
   "cell_type": "code",
   "execution_count": 40,
   "metadata": {},
   "outputs": [],
   "source": [
    "# Loading the data\n",
    "df = load_df(filepath)"
   ]
  },
  {
   "cell_type": "code",
   "execution_count": 41,
   "metadata": {},
   "outputs": [
    {
     "data": {
      "text/html": [
       "<div>\n",
       "<style scoped>\n",
       "    .dataframe tbody tr th:only-of-type {\n",
       "        vertical-align: middle;\n",
       "    }\n",
       "\n",
       "    .dataframe tbody tr th {\n",
       "        vertical-align: top;\n",
       "    }\n",
       "\n",
       "    .dataframe thead th {\n",
       "        text-align: right;\n",
       "    }\n",
       "</style>\n",
       "<table border=\"1\" class=\"dataframe\">\n",
       "  <thead>\n",
       "    <tr style=\"text-align: right;\">\n",
       "      <th></th>\n",
       "      <th>Statistic</th>\n",
       "      <th>Value</th>\n",
       "    </tr>\n",
       "  </thead>\n",
       "  <tbody>\n",
       "    <tr>\n",
       "      <th>0</th>\n",
       "      <td>Mean</td>\n",
       "      <td>68180.704918</td>\n",
       "    </tr>\n",
       "    <tr>\n",
       "      <th>1</th>\n",
       "      <td>Median</td>\n",
       "      <td>70568.000000</td>\n",
       "    </tr>\n",
       "    <tr>\n",
       "      <th>2</th>\n",
       "      <td>Standard Deviation</td>\n",
       "      <td>14093.932965</td>\n",
       "    </tr>\n",
       "  </tbody>\n",
       "</table>\n",
       "</div>"
      ],
      "text/plain": [
       "            Statistic         Value\n",
       "0                Mean  68180.704918\n",
       "1              Median  70568.000000\n",
       "2  Standard Deviation  14093.932965"
      ]
     },
     "execution_count": 41,
     "metadata": {},
     "output_type": "execute_result"
    }
   ],
   "source": [
    "# Call generate_statistics\n",
    "gen_stat(df, analysis_col)"
   ]
  },
  {
   "cell_type": "code",
   "execution_count": 42,
   "metadata": {},
   "outputs": [
    {
     "data": {
      "image/png": "[encoded data removed]",
      "text/plain": [
       "<Figure size 1200x800 with 1 Axes>"
      ]
     },
     "metadata": {},
     "output_type": "display_data"
    },
    {
     "data": {
      "image/png": "[encoded data removed]",
      "text/plain": [
       "<Figure size 1200x800 with 1 Axes>"
      ]
     },
     "metadata": {},
     "output_type": "display_data"
    }
   ],
   "source": [
    "# Call generate_graphs\n",
    "gen_graphs(\n",
    "    df,\n",
    "    x_col,\n",
    "    y_col,\n",
    "    plot_title,\n",
    "    xlabel,\n",
    "    ylabel,\n",
    "    x2_col,\n",
    "    y2_col,\n",
    "    graph2_title,\n",
    "    jupyter_render=False,\n",
    ")"
   ]
  }
 ],
 "metadata": {
  "kernelspec": {
   "display_name": "Python 3",
   "language": "python",
   "name": "python3"
  },
  "language_info": {
   "codemirror_mode": {
    "name": "ipython",
    "version": 3
   },
   "file_extension": ".py",
   "mimetype": "text/x-python",
   "name": "python",
   "nbconvert_exporter": "python",
   "pygments_lexer": "ipython3",
   "version": "3.12.6"
  }
 },
 "nbformat": 4,
 "nbformat_minor": 2
}
